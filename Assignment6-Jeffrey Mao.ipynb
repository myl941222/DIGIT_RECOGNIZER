{
 "cells": [
  {
   "cell_type": "markdown",
   "metadata": {},
   "source": [
    "## Practical Machine Learning\n",
    "### Assignment 6 - Neural Networks\n",
    "\n",
    "Description:\n",
    "This individual assignment involves fitting a neural network to the MNIST data, testing alternative network structures, activation functions, optimization methods, and/or hyperparameter settings. As in Assignment 5, we will assess classification performance accuracy and processing time. Python TensorFlow should be used for Assignment 6. (If you experience difficulty installing TensorFlow, Python scikit-learn may be used as an alternative for Assignment 6.)\n",
    "\n",
    "The Benchmark Experiment\n",
    "Tested neural network structures should be explored within a benchmark experiment, a factorial design with at least two levels on each of two experimental factors (at least a 2x2 completely crossed design). But due to the time required to fit each neural network, we will observe only one trial for each cell in the design. Also, we will be using a simple training-and-test split with the split having been performed previously. That is, we use the training and test sets that come with MNIST.\n",
    "\n",
    "An example experiment could include two values for the number of nodes per inner layer and two values for the number of inner layers. Various machine learning hyperparameter settings may be used.\n",
    "\n",
    "Students are encouraged to work in STUDY TEAMS on this assignment, with the understanding that each student must run the code himself/herself and write an independent report of the experimental results. \n",
    "\n",
    "An example of the results from this assignment should be provided in a table such as the following:\n",
    "Image added to the assignment section within Canvas.\n",
    "\n",
    "In summary, this assignment asks you to fit a number of neural networks, comparing processing time and performance across experimental treatments.\n",
    "\n",
    "Management Question\n",
    "Suppose you are a financial institution evaluating machine learning technologies for optical character recognition. Initial testing is on the MNIST digits. What can you conclude from your benchmark study? Which neural network typology and hyperparameter settings would you recommend as being the most trustworthy?\n",
    "\n",
    "Programming Resources\n",
    "Géron, A. (2017). Hands-on machine learning with Scikit-Learn & TensorFlow: Concepts, tools, and techniques to build intelligent systems. Sebastopol, CA: O’Reilly. [ISBN-13 978-1-491-96229-9]. Chapter 11: Training Deep Neural Networks (pp. 275–312). Chapter 11 code (a Jupyter Notebook file 11_deep_learning.ipynb) shows how to use TensorFlow with the MNIST data set:\n",
    "Source code available at via Github\n",
    "\n",
    "\n",
    "##### Extensive coding examples are provided under:\n",
    "Modules 6 / Additional Resources \n",
    "\n",
    "For students wanting to compare TensorFlow with scikit-learn or other systems for building neural networks, it is good to have common input data. See the programs under:\n",
    "Modules 6 / Additional Resources / Jump-Start MNIST Data Prep\n",
    "\n",
    "For a demonstration of scikit-learn fitting of neural networks, a demonstration is shown under:\n",
    "Modules 6 / Additional Resources / Jump-Start MNIST Scikit-Learn Neural Networks\n",
    "\n",
    "\n",
    "TensorFlow documentation and tutorials are available online at\n",
    "https://www.tensorflow.org/api_docs/python \n",
    "https://www.tensorflow.org/tutorials/index.html\n",
    "\n",
    "Visualization of TensorFlow work is provided through TensorBoard, with documentation at\n",
    "https://www.tensorflow.org/get_started/summaries_and_tensorboard \n",
    "https://www.tensorflow.org/get_started/graph_viz \n",
    "\n",
    "For tutorials from the TensorFlow Developers Summit 2017\n",
    "https://www.youtube.com/playlist?list=PLOU2XLYxmsIKGc_NBoIhTn2Qhraji53cv \n",
    "\n",
    "There is also a Lynda.com course introducing TensorFlow. See the reference under Modules / Technology Resources.\n",
    "\n",
    "Background information on neural network structure and parameter estimation and the mathematics of optimization (backpropagation) may be found at:\n",
    "https://www.youtube.com/watch?v=aircAruvnKk \n",
    "\n",
    "\n",
    "An advanced Google presentation from the TensorFlow Developers Summit 2017 demonstrates the wide range of possibilities available through TensorBoard:\n",
    "https://www.youtube.com/watch?v=eBbEDRsCmv4&list=PLOU2XLYxmsIKGc_NBoIhTn2Qhraji53cv&index=5\n",
    "\n",
    "\n",
    "Grading Guidelines (50 points)\n",
    "(1) Data preparation, exploration, visualization (10 points)\n",
    "(2) Review research design and modeling methods (10 points)\n",
    "(3) Review results, evaluate models (10 points)\n",
    "(4) Implementation and programming (10 points)\n",
    "(5) Exposition, problem description, and management recommendations (10 points)\n",
    "\n",
    " \n",
    "Deliverables and File Formats\n",
    "Please upload the completed jupyter notebook (PREFERRED)\n",
    "\n",
    "OR\n",
    "\n",
    "Create a folder or directory with all supplementary files with your last name at the beginning of the folder name, compress that folder with zip compression, and post the zip-archived folder under the assignment link in Canvas. The following files should be included in an archive folder/directory that is uploaded as a single zip-compressed file. (Use zip, not StuffIt or any 7z or other compression method.)\n",
    "\n",
    "1. Provide a double-spaced paper with a two-page maximum for the text. The paper should include (1) a summary and problem definition for management; (2) discussion of the research design, measurement and statistical methods, traditional and machine learning methods employed; (3) overview of programming work; and (4) review of results with recommendations for management. (The paper must be provided as an Adobe Acrobat pdf file. MS Word files are NOT acceptable.)\n",
    "\n",
    "2. Files or links to files should be provided in the format as used by the Python program.\n",
    "\n",
    "3. Complete program code in Python used to access and analyze the data. The code should be submitted as a plain text file, so it can be executed as a program in a single Python program execution within an interactive Python shell. (You may include a Python notebook in addition to the complete program code.) If there are calls to Python modules, ensure that the directory structure is maintained so that the main program may be fully executed. \n",
    "\n",
    "4. Output from the program, such as console listing/logs, text files, and graphics output for visualizations. If you use Professional Studies database servers or systems, include Linux logs of your sessions as plain text files.\n",
    "\n",
    "5. List file names and descriptions of files in the zip-compressed folder/directory.\n",
    "\n",
    "\n",
    "Formatting Python Code\n",
    "Refer to Google’s Python Style Guide for ideas about formatting Python code\n",
    "\n",
    "Also refer to Google’s TensorFlow Style Guide\n",
    "\n",
    "Comment often and in detail, highlighting major sections of code, describing the thinking behind the modeling and programming methods being employed.\n",
    "\n",
    "\n",
    "Purpose: \n",
    "The goal of this assignment is to fit a number of neural networks, comparing processing time and performance across experimental treatments. During this process we need to also address the below question that solves a business need.\n",
    "\n",
    "Additional resouces on OCR:\n",
    "https://www.ritchieng.com/machine-learning-photo-ocr/ \n",
    "\n",
    "Frameworks:\n",
    "Python TensorFlow should be used and in case you are experiencing difficulty installing TensorFlow, Python Scikit Learn can be used\n",
    "\n",
    "The following steps might help: \n",
    "- Set up Parameters such as, learning_rate, training_epochs, batch_size = 128, step = 1 along with network parameters inputs, classes, nodes & layers. \n",
    "- Define Layers, creating a NN with weights & biases \n",
    "- setup the cost Function & the optimizer\n",
    "- train model and identify model accuracy ( make sure to time the runs )\n",
    "- Repeating for different Number of Nodes/Layers\n"
   ]
  },
  {
   "cell_type": "code",
   "execution_count": 1,
   "metadata": {},
   "outputs": [],
   "source": [
    "# Ignore warnings\n",
    "import warnings\n",
    "warnings.filterwarnings(\"ignore\")"
   ]
  },
  {
   "cell_type": "code",
   "execution_count": 7,
   "metadata": {},
   "outputs": [
    {
     "name": "stdout",
     "output_type": "stream",
     "text": [
      "Requirement already satisfied: tabulate in c:\\users\\myl94\\anaconda3\\envs\\py38\\lib\\site-packages (0.8.8)\n"
     ]
    }
   ],
   "source": [
    "# Common imports: Numpy, os and time.\n",
    "import numpy as np\n",
    "import os\n",
    "import time\n",
    "\n",
    "%matplotlib inline\n",
    "import matplotlib\n",
    "import matplotlib.pyplot as plt\n",
    "import seaborn as sns\n",
    "# Table creation for Tensor Flow Neural Network Benchmark Experiment Results\n",
    "import sys\n",
    "!{sys.executable} -m pip install tabulate\n",
    "from tabulate import tabulate\n",
    "\n",
    "# Tensor Flow Neural Network\n",
    "import keras\n",
    "#import tensorflow as tf\n",
    "from tensorflow.keras import backend\n",
    "\n",
    "import tensorflow.compat.v1 as tf\n",
    "tf.disable_v2_behavior()\n",
    "\n",
    "\n",
    "\n",
    "# to make this notebook's output stable across runs\n",
    "def reset_graph(seed=42):\n",
    "    #tf.reset_default_graph()\n",
    "    tf.compat.v1.get_default_graph()\n",
    "    tf.set_random_seed(seed)\n",
    "    np.random.seed(seed)   "
   ]
  },
  {
   "cell_type": "code",
   "execution_count": 3,
   "metadata": {},
   "outputs": [],
   "source": [
    "# Load MNIST Data Set\n",
    "(X_train, y_train), (X_test, y_test) = tf.keras.datasets.mnist.load_data()\n",
    "\n",
    "X_train = X_train.astype(np.float32).reshape(-1, 28*28) / 255.0\n",
    "X_test = X_test.astype(np.float32).reshape(-1, 28*28) / 255.0\n",
    "\n",
    "y_train = y_train.astype(np.int32)\n",
    "y_test = y_test.astype(np.int32)\n",
    "\n",
    "X_valid, X_train = X_train[:5000], X_train[5000:]\n",
    "y_valid, y_train = y_train[:5000], y_train[5000:]"
   ]
  },
  {
   "cell_type": "code",
   "execution_count": 4,
   "metadata": {},
   "outputs": [
    {
     "name": "stdout",
     "output_type": "stream",
     "text": [
      "Shape of Training data:  (55000, 784)\n",
      "Shape of Validate data:  (5000, 784)\n",
      "Shape of Test data:  (10000, 784)\n",
      "\n",
      "Shape of Training data:  (55000,)\n",
      "Shape of Validate data:  (5000,)\n",
      "Shape of Test data:  (10000,)\n"
     ]
    }
   ],
   "source": [
    "#Check the shape of MNIST data aset\n",
    "print(\"Shape of Training data: \", X_train.shape)\n",
    "print(\"Shape of Validate data: \", X_valid.shape)\n",
    "print(\"Shape of Test data: \", X_test.shape)\n",
    "\n",
    "print(\"\\nShape of Training data: \", y_train.shape)\n",
    "print(\"Shape of Validate data: \", y_valid.shape)\n",
    "print(\"Shape of Test data: \", y_test.shape)"
   ]
  },
  {
   "cell_type": "code",
   "execution_count": 5,
   "metadata": {},
   "outputs": [
    {
     "data": {
      "image/png": "[encoded data removed]",
      "text/plain": [
       "<Figure size 432x288 with 1 Axes>"
      ]
     },
     "metadata": {
      "needs_background": "light"
     },
     "output_type": "display_data"
    },
    {
     "name": "stdout",
     "output_type": "stream",
     "text": [
      "The target value is 5\n"
     ]
    }
   ],
   "source": [
    "some_digit = X_train[36001]\n",
    "some_digit_image = some_digit.reshape(28, 28)\n",
    "plt.imshow(some_digit_image, cmap = matplotlib.cm.binary,interpolation=\"nearest\")\n",
    "plt.axis(\"off\")\n",
    "\n",
    "plt.show()\n",
    "print(\"The target value is\", y_train[36001])"
   ]
  },
  {
   "cell_type": "code",
   "execution_count": 8,
   "metadata": {},
   "outputs": [
    {
     "data": {
      "image/png": "[encoded data removed]",
      "text/plain": [
       "<Figure size 432x288 with 1 Axes>"
      ]
     },
     "metadata": {
      "needs_background": "light"
     },
     "output_type": "display_data"
    }
   ],
   "source": [
    "def dist_plot(var1, var2, var3):\n",
    "    tmp_plt=sns.countplot(var1, palette=\"Blues\").set_title(var2)\n",
    "    tmp_fig = tmp_plt.get_figure()\n",
    "    tmp_fig.savefig(var3 + \".png\", \n",
    "        bbox_inches = 'tight', dpi=None, facecolor='w', edgecolor='b', \n",
    "        orientation='portrait', papertype=None, format=None, \n",
    "        transparent=True, pad_inches=0.25)\n",
    "    return(tmp_plt)\n",
    "\n",
    "mn_plt_trn=dist_plot(y_train, 'Train Digit', \"TrainDistMNIST\")\n",
    "#mn_plt_trn.get_figure().show()"
   ]
  },
  {
   "cell_type": "code",
   "execution_count": 9,
   "metadata": {},
   "outputs": [
    {
     "data": {
      "image/png": "[encoded data removed]",
      "text/plain": [
       "<Figure size 432x288 with 1 Axes>"
      ]
     },
     "metadata": {
      "needs_background": "light"
     },
     "output_type": "display_data"
    }
   ],
   "source": [
    "mn_plt_tst=dist_plot(y_test, 'Test Digit', \"TestDistMNIST\")\n",
    "#mn_plt_tst.get_figure().show()"
   ]
  },
  {
   "cell_type": "code",
   "execution_count": 12,
   "metadata": {},
   "outputs": [
    {
     "ename": "NameError",
     "evalue": "name 'y_pred' is not defined",
     "output_type": "error",
     "traceback": [
      "\u001b[1;31m---------------------------------------------------------------------------\u001b[0m",
      "\u001b[1;31mNameError\u001b[0m                                 Traceback (most recent call last)",
      "\u001b[1;32m<ipython-input-12-fc31243c64b4>\u001b[0m in \u001b[0;36m<module>\u001b[1;34m\u001b[0m\n\u001b[0;32m      1\u001b[0m \u001b[1;31m#Plot Confusion Matrix DNN\u001b[0m\u001b[1;33m\u001b[0m\u001b[1;33m\u001b[0m\u001b[1;33m\u001b[0m\u001b[0m\n\u001b[0;32m      2\u001b[0m \u001b[1;32mfrom\u001b[0m \u001b[0msklearn\u001b[0m\u001b[1;33m.\u001b[0m\u001b[0mmetrics\u001b[0m \u001b[1;32mimport\u001b[0m \u001b[0mconfusion_matrix\u001b[0m\u001b[1;33m\u001b[0m\u001b[1;33m\u001b[0m\u001b[0m\n\u001b[1;32m----> 3\u001b[1;33m \u001b[0mcm_tst\u001b[0m \u001b[1;33m=\u001b[0m \u001b[0mconfusion_matrix\u001b[0m\u001b[1;33m(\u001b[0m\u001b[0my_test\u001b[0m\u001b[1;33m,\u001b[0m \u001b[0my_pred\u001b[0m\u001b[1;33m)\u001b[0m\u001b[1;33m\u001b[0m\u001b[1;33m\u001b[0m\u001b[0m\n\u001b[0m\u001b[0;32m      4\u001b[0m \u001b[0mcm_tst_plt\u001b[0m\u001b[1;33m=\u001b[0m\u001b[0msns\u001b[0m\u001b[1;33m.\u001b[0m\u001b[0mheatmap\u001b[0m\u001b[1;33m(\u001b[0m\u001b[0mcm_tst\u001b[0m\u001b[1;33m.\u001b[0m\u001b[0mT\u001b[0m\u001b[1;33m,\u001b[0m \u001b[0msquare\u001b[0m\u001b[1;33m=\u001b[0m\u001b[1;32mTrue\u001b[0m\u001b[1;33m,\u001b[0m \u001b[0mannot\u001b[0m\u001b[1;33m=\u001b[0m\u001b[1;32mTrue\u001b[0m\u001b[1;33m,\u001b[0m \u001b[0mfmt\u001b[0m\u001b[1;33m=\u001b[0m\u001b[1;34m'd'\u001b[0m\u001b[1;33m,\u001b[0m \u001b[0mcbar\u001b[0m\u001b[1;33m=\u001b[0m\u001b[1;32mFalse\u001b[0m\u001b[1;33m,\u001b[0m \u001b[0mcmap\u001b[0m\u001b[1;33m=\u001b[0m\u001b[1;34m\"Blues\"\u001b[0m\u001b[1;33m)\u001b[0m\u001b[1;33m\u001b[0m\u001b[1;33m\u001b[0m\u001b[0m\n\u001b[0;32m      5\u001b[0m \u001b[0mplt\u001b[0m\u001b[1;33m.\u001b[0m\u001b[0mxlabel\u001b[0m\u001b[1;33m(\u001b[0m\u001b[1;34m'Actual label'\u001b[0m\u001b[1;33m)\u001b[0m\u001b[1;33m\u001b[0m\u001b[1;33m\u001b[0m\u001b[0m\n",
      "\u001b[1;31mNameError\u001b[0m: name 'y_pred' is not defined"
     ]
    }
   ],
   "source": []
  },
  {
   "cell_type": "code",
   "execution_count": 6,
   "metadata": {},
   "outputs": [
    {
     "data": {
      "image/png": "[encoded data removed]",
      "text/plain": [
       "<Figure size 648x648 with 1 Axes>"
      ]
     },
     "metadata": {
      "needs_background": "light"
     },
     "output_type": "display_data"
    }
   ],
   "source": [
    "# additonal plots that show a number of rows\n",
    "\n",
    "def plot_digit(data):\n",
    "    image = data.reshape(28, 28)\n",
    "    plt.imshow(image, cmap = matplotlib.cm.binary,\n",
    "               interpolation=\"nearest\")\n",
    "    plt.axis(\"off\")\n",
    "    \n",
    "# EXTRA\n",
    "def plot_digits(instances, images_per_row=10, **options):\n",
    "    size = 28\n",
    "    images_per_row = min(len(instances), images_per_row)\n",
    "    images = [instance.reshape(size,size) for instance in instances]\n",
    "    n_rows = (len(instances) - 1) // images_per_row + 1\n",
    "    row_images = []\n",
    "    n_empty = n_rows * images_per_row - len(instances)\n",
    "    images.append(np.zeros((size, size * n_empty)))\n",
    "    for row in range(n_rows):\n",
    "        rimages = images[row * images_per_row : (row + 1) * images_per_row]\n",
    "        row_images.append(np.concatenate(rimages, axis=1))\n",
    "    image = np.concatenate(row_images, axis=0)\n",
    "    plt.imshow(image, cmap = matplotlib.cm.binary, **options)\n",
    "    plt.axis(\"off\")\n",
    "    \n",
    "plt.figure(figsize=(9,9))\n",
    "example_images = np.r_[X_train[:12000:600], X_train[13000:30600:600], X_train[30600:60000:590]]\n",
    "plot_digits(example_images, images_per_row=10)\n",
    "plt.show()"
   ]
  },
  {
   "cell_type": "markdown",
   "metadata": {},
   "source": [
    "#####  Model 1 : 2 layers, 1st layers: 300 neurons, 2nd layers: 100 neurons"
   ]
  },
  {
   "cell_type": "code",
   "execution_count": 13,
   "metadata": {},
   "outputs": [],
   "source": [
    "# CONSTRUCTION PHASE\n",
    "\n",
    "# Specify the number of inputs and outputs, and set the number of hidden neurons in each layer\n",
    "# Neural Network - 2 layers\n",
    "\n",
    "n_inputs = 28*28  # MNIST features = 28 pixcels n 28 pixcels for input\n",
    "n_hidden1_M1 = 300 # 300 hidden neurons in the 1st layer\n",
    "n_hidden2_M1 = 100 # 100 hidden neurons in the 2nd layer\n",
    "n_outputs = 10 # 10 outputs (0-9)"
   ]
  },
  {
   "cell_type": "code",
   "execution_count": 14,
   "metadata": {},
   "outputs": [],
   "source": [
    "# Setup placeholder nodes to represent the training data and targets\n",
    "reset_graph() #reset previous graph not to disturve the following process. \n",
    "\n",
    "X = tf.placeholder(tf.float32, shape=(None, n_inputs), name=\"X\")\n",
    "y = tf.placeholder(tf.int32, shape=(None), name=\"y\")"
   ]
  },
  {
   "cell_type": "code",
   "execution_count": 15,
   "metadata": {},
   "outputs": [],
   "source": [
    "# Create Neural Network　with tf.layers.dense()\n",
    "with tf.name_scope(\"dnn\"):\n",
    "    hidden1_m1 = tf.layers.dense(X, n_hidden1_M1, name=\"hidden1_m1\",\n",
    "                              activation=tf.nn.relu)\n",
    "    hidden2_m1 = tf.layers.dense(hidden1_m1, n_hidden2_M1, name=\"hidden2_m1\",\n",
    "                              activation=tf.nn.relu)\n",
    "    logits = tf.layers.dense(hidden2_m1, n_outputs, name=\"outputs\")"
   ]
  },
  {
   "cell_type": "code",
   "execution_count": 16,
   "metadata": {},
   "outputs": [],
   "source": [
    "# Cost function for training Neural Network\n",
    "with tf.name_scope(\"loss\"):\n",
    "    xentropy = tf.nn.sparse_softmax_cross_entropy_with_logits(labels=y,\n",
    "                                                              logits=logits)\n",
    "    loss = tf.reduce_mean(xentropy, name=\"loss\")"
   ]
  },
  {
   "cell_type": "code",
   "execution_count": 17,
   "metadata": {},
   "outputs": [],
   "source": [
    "# Gradient Descent Optimizer to minimize the cost function by learning_rate = 0.01 \n",
    "learning_rate = 0.01\n",
    "\n",
    "with tf.name_scope(\"train\"):\n",
    "    optimizer = tf.train.GradientDescentOptimizer(learning_rate)\n",
    "    training_op = optimizer.minimize(loss)"
   ]
  },
  {
   "cell_type": "code",
   "execution_count": 18,
   "metadata": {},
   "outputs": [],
   "source": [
    "# Measure classification performance by in_top_k().\n",
    "with tf.name_scope(\"eval\"):\n",
    "    correct = tf.nn.in_top_k(logits, y, 1)\n",
    "    accuracy = tf.reduce_mean(tf.cast(correct, tf.float32))"
   ]
  },
  {
   "cell_type": "code",
   "execution_count": 19,
   "metadata": {},
   "outputs": [],
   "source": [
    "# Node to initialize all the variables\n",
    "init = tf.global_variables_initializer()"
   ]
  },
  {
   "cell_type": "code",
   "execution_count": 20,
   "metadata": {},
   "outputs": [],
   "source": [
    "# Create saver to save trained parameters.\n",
    "saver = tf.train.Saver(save_relative_paths=True) "
   ]
  },
  {
   "cell_type": "code",
   "execution_count": 21,
   "metadata": {},
   "outputs": [],
   "source": [
    "# EXECUTION PHASE\n",
    "\n",
    "# Set number of epochs and batch size for training model.\n",
    "n_epochs = 20\n",
    "batch_size = 50"
   ]
  },
  {
   "cell_type": "code",
   "execution_count": 22,
   "metadata": {},
   "outputs": [],
   "source": [
    "# Record start time for neral network training\n",
    "start_time_M1 = time.process_time()\n",
    "#time.process_time()"
   ]
  },
  {
   "cell_type": "code",
   "execution_count": 23,
   "metadata": {},
   "outputs": [],
   "source": [
    "# Create function to shuffle training data\n",
    "def shuffle_batch(X, y, batch_size):\n",
    "    rnd_idx = np.random.permutation(len(X))\n",
    "    n_batches = len(X) // batch_size\n",
    "    for batch_idx in np.array_split(rnd_idx, n_batches):\n",
    "        X_batch, y_batch = X[batch_idx], y[batch_idx]\n",
    "        yield X_batch, y_batch"
   ]
  },
  {
   "cell_type": "code",
   "execution_count": 24,
   "metadata": {},
   "outputs": [
    {
     "name": "stdout",
     "output_type": "stream",
     "text": [
      "0 Batch accuracy: 0.9 Val accuracy: 0.906\n",
      "1 Batch accuracy: 0.92 Val accuracy: 0.927\n",
      "2 Batch accuracy: 0.94 Val accuracy: 0.9348\n",
      "3 Batch accuracy: 0.9 Val accuracy: 0.9402\n",
      "4 Batch accuracy: 0.94 Val accuracy: 0.9438\n",
      "5 Batch accuracy: 0.94 Val accuracy: 0.9482\n",
      "6 Batch accuracy: 1.0 Val accuracy: 0.9532\n",
      "7 Batch accuracy: 0.94 Val accuracy: 0.9584\n",
      "8 Batch accuracy: 0.96 Val accuracy: 0.9606\n",
      "9 Batch accuracy: 0.9 Val accuracy: 0.9614\n",
      "10 Batch accuracy: 0.9 Val accuracy: 0.9632\n",
      "11 Batch accuracy: 1.0 Val accuracy: 0.9648\n",
      "12 Batch accuracy: 0.98 Val accuracy: 0.966\n",
      "13 Batch accuracy: 0.98 Val accuracy: 0.9666\n",
      "14 Batch accuracy: 1.0 Val accuracy: 0.9676\n",
      "15 Batch accuracy: 0.92 Val accuracy: 0.9688\n",
      "16 Batch accuracy: 1.0 Val accuracy: 0.9698\n",
      "17 Batch accuracy: 1.0 Val accuracy: 0.9698\n",
      "18 Batch accuracy: 0.98 Val accuracy: 0.971\n",
      "19 Batch accuracy: 0.96 Val accuracy: 0.9724\n"
     ]
    }
   ],
   "source": [
    "#Training model by using neural network\n",
    "with tf.Session() as sess:\n",
    "    init.run()\n",
    "    for epoch in range(n_epochs):\n",
    "        for X_batch, y_batch in shuffle_batch(X_train, y_train, batch_size):\n",
    "            sess.run(training_op, feed_dict={X: X_batch, y: y_batch})\n",
    "        acc_batch_M1 = accuracy.eval(feed_dict={X: X_batch, y: y_batch})\n",
    "        acc_val_M1 = accuracy.eval(feed_dict={X: X_valid, y: y_valid})\n",
    "        print(epoch, \"Batch accuracy:\", acc_batch_M1, \"Val accuracy:\", acc_val_M1)\n",
    "\n",
    "    save_path = saver.save(sess, \"./my_model_final.ckpt\")"
   ]
  },
  {
   "cell_type": "code",
   "execution_count": 25,
   "metadata": {},
   "outputs": [
    {
     "name": "stdout",
     "output_type": "stream",
     "text": [
      "INFO:tensorflow:Restoring parameters from ./my_model_final.ckpt\n"
     ]
    }
   ],
   "source": [
    "# Make prediction by using test data\n",
    "with tf.Session() as sess:\n",
    "    saver.restore(sess, \"./my_model_final.ckpt\") # or better, use save_path\n",
    "    X_new_scaled = X_test[:20]\n",
    "    Z = logits.eval(feed_dict={X: X_new_scaled})\n",
    "    y_pred_M1 = np.argmax(Z, axis=1)\n",
    "    accuracy_M1 = accuracy.eval(feed_dict={X: X_test, \n",
    "                                        y: y_test})\n",
    "    accuracy_train_M1 = accuracy.eval(feed_dict={X: X_train, \n",
    "                                        y: y_train})"
   ]
  },
  {
   "cell_type": "code",
   "execution_count": 26,
   "metadata": {},
   "outputs": [
    {
     "name": "stdout",
     "output_type": "stream",
     "text": [
      "-------- Model 1 --------\n",
      "300 neurons (1st layer), 100 neurons (2nd layer)\n",
      "\n",
      "Predicted classes: [7 2 1 0 4 1 4 9 6 9 0 6 9 0 1 5 9 7 3 4]\n",
      "Actual classes: [7 2 1 0 4 1 4 9 5 9 0 6 9 0 1 5 9 7 3 4]\n",
      "Test Set Accracy: 0.9704\n",
      "Train Set Accracy: 0.97745454\n",
      "\n",
      "Start time: 14.21875\n",
      "Stop time: 266.328125\n",
      "processing time: 252.109375\n"
     ]
    }
   ],
   "source": [
    "# Print prediction classess and actual classess.\n",
    "print(\"-------- Model 1 --------\")\n",
    "print(\"300 neurons (1st layer), 100 neurons (2nd layer)\")\n",
    "print(\"\\nPredicted classes:\", y_pred_M1)\n",
    "print(\"Actual classes:\", y_test[:20])\n",
    "print(\"Test Set Accracy:\", accuracy_M1)\n",
    "print(\"Train Set Accracy:\", accuracy_train_M1)\n",
    "# Record end time for neral network training\n",
    "stop_time_M1 = time.process_time()\n",
    "\n",
    "#Total processing time\n",
    "runtime_M1 = stop_time_M1 - start_time_M1 \n",
    "\n",
    "print(\"\\nStart time:\", start_time_M1)\n",
    "print(\"Stop time:\", stop_time_M1)\n",
    "print(\"processing time:\", runtime_M1)"
   ]
  },
  {
   "cell_type": "markdown",
   "metadata": {},
   "source": [
    " ### Model 2 :  2 layers, 1st layers: 300 neurons, 2nd layers: 100 neurons, 10 outpus"
   ]
  },
  {
   "cell_type": "code",
   "execution_count": 22,
   "metadata": {},
   "outputs": [],
   "source": [
    "# CONSTRUCTION PHASE\n",
    "\n",
    "# Specify the number of inputs and outputs, and set the number of hidden neurons in each layer\n",
    "# Neural Network - 2 layers\n",
    "\n",
    "n_inputs = 28*28  # MNIST features = 28 pixcels n 28 pixcels for input\n",
    "n_hidden1_M2 = 300 # 300 hidden neurons in the 1st layer\n",
    "n_hidden2_M2 = 100 # 100 hidden neurons in the 2nd layer\n",
    "n_outputs_M2 = 10 # 10 outputs (0-9)"
   ]
  },
  {
   "cell_type": "code",
   "execution_count": 23,
   "metadata": {},
   "outputs": [],
   "source": [
    "reset_graph() #reset previous graph not to disturve the following process. \n",
    "\n",
    "X = tf.placeholder(tf.float32, shape=(None, n_inputs), name=\"X\")\n",
    "y = tf.placeholder(tf.int32, shape=(None), name=\"y\")\n"
   ]
  },
  {
   "cell_type": "code",
   "execution_count": 24,
   "metadata": {},
   "outputs": [],
   "source": [
    "# Create Neural Network　with tf.layers.dense()\n",
    "with tf.name_scope(\"dnn\"):\n",
    "    hidden1_m2 = tf.layers.dense(X, n_hidden1_M2, name=\"hidden1_m2\",\n",
    "                              activation=tf.nn.relu)\n",
    "    hidden2_m2 = tf.layers.dense(hidden1_m2, n_hidden2_M2, name=\"hidden2_m2\",\n",
    "                              activation=tf.nn.relu)\n",
    "    logits = tf.layers.dense(hidden2_m2, n_outputs_M2, name=\"outputs_m2\")"
   ]
  },
  {
   "cell_type": "code",
   "execution_count": 25,
   "metadata": {},
   "outputs": [],
   "source": [
    "# Cost function for training Neural Network\n",
    "with tf.name_scope(\"loss\"):\n",
    "    xentropy = tf.nn.sparse_softmax_cross_entropy_with_logits(labels=y,\n",
    "                                                              logits=logits)\n",
    "    loss = tf.reduce_mean(xentropy, name=\"loss\")"
   ]
  },
  {
   "cell_type": "code",
   "execution_count": 26,
   "metadata": {},
   "outputs": [],
   "source": [
    "# Gradient Descent Optimizer to minimize the cost function by learning_rate = 0.01 \n",
    "learning_rate = 0.01\n",
    "\n",
    "with tf.name_scope(\"train\"):\n",
    "    optimizer = tf.train.GradientDescentOptimizer(learning_rate)\n",
    "    training_op = optimizer.minimize(loss)"
   ]
  },
  {
   "cell_type": "code",
   "execution_count": 27,
   "metadata": {},
   "outputs": [],
   "source": [
    "# Measure classification performance by in_top_k().\n",
    "with tf.name_scope(\"eval\"):\n",
    "    correct = tf.nn.in_top_k(logits, y, 1)\n",
    "    accuracy = tf.reduce_mean(tf.cast(correct, tf.float32))"
   ]
  },
  {
   "cell_type": "code",
   "execution_count": 28,
   "metadata": {},
   "outputs": [],
   "source": [
    "# Node to initialize all the variables\n",
    "init = tf.global_variables_initializer()"
   ]
  },
  {
   "cell_type": "code",
   "execution_count": 29,
   "metadata": {},
   "outputs": [],
   "source": [
    "# Create saver to save trained parameters.\n",
    "saver = tf.train.Saver(save_relative_paths=True) "
   ]
  },
  {
   "cell_type": "code",
   "execution_count": 30,
   "metadata": {},
   "outputs": [],
   "source": [
    "# EXECUTION PHASE\n",
    "\n",
    "# Set number of epochs and batch size for training model.\n",
    "n_epochs = 20\n",
    "batch_size = 50"
   ]
  },
  {
   "cell_type": "code",
   "execution_count": 31,
   "metadata": {},
   "outputs": [],
   "source": [
    "# Record start time for neral network training\n",
    "start_time_M2 = time.process_time()\n",
    "#time.process_time()"
   ]
  },
  {
   "cell_type": "code",
   "execution_count": 32,
   "metadata": {},
   "outputs": [],
   "source": [
    "# Create function to shuffle training data\n",
    "def shuffle_batch(X, y, batch_size):\n",
    "    rnd_idx = np.random.permutation(len(X))\n",
    "    n_batches = len(X) // batch_size\n",
    "    for batch_idx in np.array_split(rnd_idx, n_batches):\n",
    "        X_batch, y_batch = X[batch_idx], y[batch_idx]\n",
    "        yield X_batch, y_batch"
   ]
  },
  {
   "cell_type": "code",
   "execution_count": 33,
   "metadata": {},
   "outputs": [
    {
     "name": "stdout",
     "output_type": "stream",
     "text": [
      "0 Batch accuracy: 0.88 Val accuracy: 0.9042\n",
      "1 Batch accuracy: 0.9 Val accuracy: 0.9234\n",
      "2 Batch accuracy: 0.94 Val accuracy: 0.934\n",
      "3 Batch accuracy: 0.92 Val accuracy: 0.9408\n",
      "4 Batch accuracy: 0.96 Val accuracy: 0.9448\n",
      "5 Batch accuracy: 0.94 Val accuracy: 0.95\n",
      "6 Batch accuracy: 1.0 Val accuracy: 0.954\n",
      "7 Batch accuracy: 0.94 Val accuracy: 0.9578\n",
      "8 Batch accuracy: 0.96 Val accuracy: 0.9614\n",
      "9 Batch accuracy: 0.92 Val accuracy: 0.9642\n",
      "10 Batch accuracy: 0.94 Val accuracy: 0.9652\n",
      "11 Batch accuracy: 0.98 Val accuracy: 0.9662\n",
      "12 Batch accuracy: 0.98 Val accuracy: 0.9652\n",
      "13 Batch accuracy: 1.0 Val accuracy: 0.97\n",
      "14 Batch accuracy: 0.98 Val accuracy: 0.9722\n",
      "15 Batch accuracy: 0.94 Val accuracy: 0.9726\n",
      "16 Batch accuracy: 0.98 Val accuracy: 0.973\n",
      "17 Batch accuracy: 1.0 Val accuracy: 0.9734\n",
      "18 Batch accuracy: 1.0 Val accuracy: 0.974\n",
      "19 Batch accuracy: 0.96 Val accuracy: 0.9754\n"
     ]
    }
   ],
   "source": [
    "#Training model by using neural network\n",
    "with tf.Session() as sess:\n",
    "    init.run()\n",
    "    for epoch in range(n_epochs):\n",
    "        for X_batch, y_batch in shuffle_batch(X_train, y_train, batch_size):\n",
    "            sess.run(training_op, feed_dict={X: X_batch, y: y_batch})\n",
    "        acc_batch_M2 = accuracy.eval(feed_dict={X: X_batch, y: y_batch})\n",
    "        acc_val_M2 = accuracy.eval(feed_dict={X: X_valid, y: y_valid})\n",
    "        print(epoch, \"Batch accuracy:\", acc_batch_M2, \"Val accuracy:\", acc_val_M2)\n",
    "\n",
    "    save_path = saver.save(sess, \"./my_model2_final.ckpt\")"
   ]
  },
  {
   "cell_type": "code",
   "execution_count": 34,
   "metadata": {},
   "outputs": [
    {
     "name": "stdout",
     "output_type": "stream",
     "text": [
      "INFO:tensorflow:Restoring parameters from ./my_model2_final.ckpt\n"
     ]
    }
   ],
   "source": [
    "# Make prediction by using test data\n",
    "with tf.Session() as sess:\n",
    "    saver.restore(sess, \"./my_model2_final.ckpt\") # or better, use save_path\n",
    "    X_new_scaled = X_test[:20]\n",
    "    Z = logits.eval(feed_dict={X: X_new_scaled})\n",
    "    y_pred_M2 = np.argmax(Z, axis=1)\n",
    "    accuracy_M2 = accuracy.eval(feed_dict={X: X_test, \n",
    "                                        y: y_test})\n",
    "    accuracy_train_M2 = accuracy.eval(feed_dict={X: X_train, \n",
    "                                        y: y_train})"
   ]
  },
  {
   "cell_type": "code",
   "execution_count": 36,
   "metadata": {},
   "outputs": [
    {
     "name": "stdout",
     "output_type": "stream",
     "text": [
      "-------- Model 2 --------\n",
      "300 neurons (1st layer), 100 neurons (2nd layer), outputs 10\n",
      "\n",
      "Predicted classes: [7 2 1 0 4 1 4 9 6 9 0 6 9 0 1 5 9 7 3 4]\n",
      "Actual classes: [7 2 1 0 4 1 4 9 5 9 0 6 9 0 1 5 9 7 3 4]\n",
      "Test Set Accracy: 0.9711\n",
      "Train Set Accracy: 0.9795091\n",
      "\n",
      "Start time: 236.953125\n",
      "Stop time: 447.6875\n",
      "processing time: 210.734375\n"
     ]
    }
   ],
   "source": [
    "# Print prediction classess and actual classess.\n",
    "print(\"-------- Model 2 --------\")\n",
    "print(\"300 neurons (1st layer), 100 neurons (2nd layer), outputs 10\")\n",
    "print(\"\\nPredicted classes:\", y_pred_M2)\n",
    "print(\"Actual classes:\", y_test[:20])\n",
    "print(\"Test Set Accracy:\", accuracy_M2)\n",
    "print(\"Train Set Accracy:\", accuracy_train_M2)\n",
    "\n",
    "# Record end time for neral network training\n",
    "stop_time_M2 = time.process_time()\n",
    "\n",
    "#Total processing time\n",
    "runtime_M2 = stop_time_M2 - start_time_M2 \n",
    "\n",
    "print(\"\\nStart time:\", start_time_M2)\n",
    "print(\"Stop time:\", stop_time_M2)\n",
    "print(\"processing time:\", runtime_M2)"
   ]
  },
  {
   "cell_type": "markdown",
   "metadata": {},
   "source": [
    "##### Model 3 : 5 layers, 1st layers: 300 neurons, 2nd layers: 100 neurons, 3rd layers: 200 neurons, 4th layers: 400 neurons, 5th layers: 500 neurons,10 outpus"
   ]
  },
  {
   "cell_type": "code",
   "execution_count": 37,
   "metadata": {},
   "outputs": [],
   "source": [
    "# CONSTRUCTION PHASE\n",
    "\n",
    "# Specify the number of inputs and outputs, and set the number of hidden neurons in each layer\n",
    "# Neural Network - 5 layers\n",
    "\n",
    "n_inputs = 28*28  # MNIST features = 28 pixcels n 28 pixcels for input\n",
    "n_hidden1_M3 = 300 # 300 hidden neurons in the 1st layer\n",
    "n_hidden2_M3 = 100 # 200 hidden neurons in the 2nd layer\n",
    "n_hidden3_M3 = 200 # 200 hidden neurons in the 3rd layer\n",
    "n_hidden4_M3 = 400 # 400 hidden neurons in the 4th layer\n",
    "n_hidden5_M3 = 500 # 500 hidden neurons in the 5th layer\n",
    "n_outputs_M3 = 10 # 10 outputs (0-9)"
   ]
  },
  {
   "cell_type": "code",
   "execution_count": 38,
   "metadata": {},
   "outputs": [],
   "source": [
    "reset_graph() #reset previous graph not to disturve the following process. \n",
    "\n",
    "X = tf.placeholder(tf.float32, shape=(None, n_inputs), name=\"X\")\n",
    "y = tf.placeholder(tf.int32, shape=(None), name=\"y\")\n"
   ]
  },
  {
   "cell_type": "code",
   "execution_count": 39,
   "metadata": {},
   "outputs": [],
   "source": [
    "# Create Neural Network　with tf.layers.dense()\n",
    "with tf.name_scope(\"dnn\"):\n",
    "    hidden1_m3 = tf.layers.dense(X, n_hidden1_M3, name=\"hidden1_m3\",\n",
    "                              activation=tf.nn.relu)\n",
    "    hidden2_m3 = tf.layers.dense(hidden1_m3, n_hidden2_M3, name=\"hidden2_m3\",\n",
    "                              activation=tf.nn.relu)\n",
    "    hidden3_m3 = tf.layers.dense(hidden2_m3, n_hidden3_M3, name=\"hidden3_m3\",\n",
    "                              activation=tf.nn.relu)\n",
    "    hidden4_m3 = tf.layers.dense(hidden3_m3, n_hidden4_M3, name=\"hidden4_m3\",\n",
    "                              activation=tf.nn.relu)\n",
    "    hidden5_m3 = tf.layers.dense(hidden4_m3, n_hidden5_M3, name=\"hidden5_m3\",\n",
    "                              activation=tf.nn.relu)\n",
    "    logits = tf.layers.dense(hidden5_m3, n_outputs_M3, name=\"outputs_m3\")"
   ]
  },
  {
   "cell_type": "code",
   "execution_count": 40,
   "metadata": {},
   "outputs": [],
   "source": [
    "# Cost function for training Neural Network\n",
    "with tf.name_scope(\"loss\"):\n",
    "    xentropy = tf.nn.sparse_softmax_cross_entropy_with_logits(labels=y,\n",
    "                                                              logits=logits)\n",
    "    loss = tf.reduce_mean(xentropy, name=\"loss\")"
   ]
  },
  {
   "cell_type": "code",
   "execution_count": 41,
   "metadata": {},
   "outputs": [],
   "source": [
    "# Gradient Descent Optimizer to minimize the cost function by learning_rate = 0.01 \n",
    "learning_rate = 0.01\n",
    "\n",
    "with tf.name_scope(\"train\"):\n",
    "    optimizer = tf.train.GradientDescentOptimizer(learning_rate)\n",
    "    training_op = optimizer.minimize(loss)"
   ]
  },
  {
   "cell_type": "code",
   "execution_count": 42,
   "metadata": {},
   "outputs": [],
   "source": [
    "# Measure classification performance by in_top_k().\n",
    "with tf.name_scope(\"eval\"):\n",
    "    correct = tf.nn.in_top_k(logits, y, 1)\n",
    "    accuracy = tf.reduce_mean(tf.cast(correct, tf.float32))"
   ]
  },
  {
   "cell_type": "code",
   "execution_count": 43,
   "metadata": {},
   "outputs": [],
   "source": [
    "# Node to initialize all the variables\n",
    "init = tf.global_variables_initializer()"
   ]
  },
  {
   "cell_type": "code",
   "execution_count": 44,
   "metadata": {},
   "outputs": [],
   "source": [
    "# Create saver to save trained parameters.\n",
    "saver = tf.train.Saver(save_relative_paths=True) "
   ]
  },
  {
   "cell_type": "code",
   "execution_count": 45,
   "metadata": {},
   "outputs": [],
   "source": [
    "# EXECUTION PHASE\n",
    "\n",
    "# Set number of epochs and batch size for training model.\n",
    "n_epochs = 20\n",
    "batch_size = 50"
   ]
  },
  {
   "cell_type": "code",
   "execution_count": 46,
   "metadata": {},
   "outputs": [],
   "source": [
    "# Record start time for neral network training\n",
    "start_time_M3 = time.process_time()\n",
    "#time.process_time()"
   ]
  },
  {
   "cell_type": "code",
   "execution_count": 47,
   "metadata": {},
   "outputs": [],
   "source": [
    "# Create function to shuffle training data\n",
    "def shuffle_batch(X, y, batch_size):\n",
    "    rnd_idx = np.random.permutation(len(X))\n",
    "    n_batches = len(X) // batch_size\n",
    "    for batch_idx in np.array_split(rnd_idx, n_batches):\n",
    "        X_batch, y_batch = X[batch_idx], y[batch_idx]\n",
    "        yield X_batch, y_batch"
   ]
  },
  {
   "cell_type": "code",
   "execution_count": 48,
   "metadata": {},
   "outputs": [
    {
     "name": "stdout",
     "output_type": "stream",
     "text": [
      "0 Batch accuracy: 0.9 Val accuracy: 0.8882\n",
      "1 Batch accuracy: 0.94 Val accuracy: 0.9326\n",
      "2 Batch accuracy: 0.96 Val accuracy: 0.9484\n",
      "3 Batch accuracy: 0.9 Val accuracy: 0.9528\n",
      "4 Batch accuracy: 0.98 Val accuracy: 0.9612\n",
      "5 Batch accuracy: 0.98 Val accuracy: 0.9612\n",
      "6 Batch accuracy: 1.0 Val accuracy: 0.9682\n",
      "7 Batch accuracy: 0.98 Val accuracy: 0.9702\n",
      "8 Batch accuracy: 1.0 Val accuracy: 0.9708\n",
      "9 Batch accuracy: 0.98 Val accuracy: 0.974\n",
      "10 Batch accuracy: 0.98 Val accuracy: 0.975\n",
      "11 Batch accuracy: 0.98 Val accuracy: 0.9766\n",
      "12 Batch accuracy: 0.98 Val accuracy: 0.9704\n",
      "13 Batch accuracy: 1.0 Val accuracy: 0.973\n",
      "14 Batch accuracy: 1.0 Val accuracy: 0.9764\n",
      "15 Batch accuracy: 0.98 Val accuracy: 0.9744\n",
      "16 Batch accuracy: 1.0 Val accuracy: 0.9768\n",
      "17 Batch accuracy: 1.0 Val accuracy: 0.979\n",
      "18 Batch accuracy: 1.0 Val accuracy: 0.9786\n",
      "19 Batch accuracy: 1.0 Val accuracy: 0.9768\n"
     ]
    }
   ],
   "source": [
    "#Training model by using neural network\n",
    "with tf.Session() as sess:\n",
    "    init.run()\n",
    "    for epoch in range(n_epochs):\n",
    "        for X_batch, y_batch in shuffle_batch(X_train, y_train, batch_size):\n",
    "            sess.run(training_op, feed_dict={X: X_batch, y: y_batch})\n",
    "        acc_batch_M3 = accuracy.eval(feed_dict={X: X_batch, y: y_batch})\n",
    "        acc_val_M3 = accuracy.eval(feed_dict={X: X_valid, y: y_valid})\n",
    "        print(epoch, \"Batch accuracy:\", acc_batch_M3, \"Val accuracy:\", acc_val_M3)\n",
    "\n",
    "    save_path = saver.save(sess, \"./my_model3_final.ckpt\")"
   ]
  },
  {
   "cell_type": "code",
   "execution_count": 49,
   "metadata": {},
   "outputs": [
    {
     "name": "stdout",
     "output_type": "stream",
     "text": [
      "INFO:tensorflow:Restoring parameters from ./my_model3_final.ckpt\n"
     ]
    }
   ],
   "source": [
    "# Make prediction by using test data\n",
    "with tf.Session() as sess:\n",
    "    saver.restore(sess, \"./my_model3_final.ckpt\") # or better, use save_path\n",
    "    X_new_scaled = X_test[:20]\n",
    "    Z = logits.eval(feed_dict={X: X_new_scaled})\n",
    "    y_pred_M3 = np.argmax(Z, axis=1)\n",
    "    accuracy_M3 = accuracy.eval(feed_dict={X: X_test, \n",
    "                                        y: y_test})\n",
    "    accuracy_train_M3 = accuracy.eval(feed_dict={X: X_train, \n",
    "                                        y: y_train})\n",
    "    "
   ]
  },
  {
   "cell_type": "code",
   "execution_count": 50,
   "metadata": {},
   "outputs": [
    {
     "name": "stdout",
     "output_type": "stream",
     "text": [
      "-------- Model 3 --------\n",
      "300 neurons (1st layer), 100 neurons (2nd layer),200 neurons (3rd layer),400 neurons (4th), 500 neurons (5th),10 outpus\n",
      "\n",
      "Predicted classes: [7 2 1 0 4 1 4 9 6 9 0 6 9 0 1 5 9 7 3 4]\n",
      "Actual classes: [7 2 1 0 4 1 4 9 5 9 0 6 9 0 1 5 9 7 3 4]\n",
      "Test Set Accracy: 0.9757\n",
      "Train Set Accracy: 0.9944182\n",
      "\n",
      "Start time: 448.296875\n",
      "Stop time: 1002.21875\n",
      "processing time: 553.921875\n"
     ]
    }
   ],
   "source": [
    "# Print prediction classess and actual classess.\n",
    "print(\"-------- Model 3 --------\")\n",
    "print(\"300 neurons (1st layer), 100 neurons (2nd layer),200 neurons (3rd layer),400 neurons (4th), 500 neurons (5th),10 outpus\")\n",
    "print(\"\\nPredicted classes:\", y_pred_M3)\n",
    "print(\"Actual classes:\", y_test[:20])\n",
    "print(\"Test Set Accracy:\", accuracy_M3)\n",
    "print(\"Train Set Accracy:\", accuracy_train_M3)\n",
    "# Record end time for neral network training\n",
    "stop_time_M3 = time.process_time()\n",
    "\n",
    "#Total processing time\n",
    "runtime_M3 = stop_time_M3 - start_time_M3 \n",
    "\n",
    "print(\"\\nStart time:\", start_time_M3)\n",
    "print(\"Stop time:\", stop_time_M3)\n",
    "print(\"processing time:\", runtime_M3)"
   ]
  },
  {
   "cell_type": "markdown",
   "metadata": {},
   "source": [
    "##### Model 4 : 5 layers, 1st layers: 300 neurons, 2nd layers: 100 neurons, 3rd layers: 200 neurons, 4th layers: 400 neurons, 5th layers: 500 neurons,20 outpus"
   ]
  },
  {
   "cell_type": "code",
   "execution_count": 51,
   "metadata": {},
   "outputs": [],
   "source": [
    "# CONSTRUCTION PHASE\n",
    "\n",
    "# Specify the number of inputs and outputs, and set the number of hidden neurons in each layer\n",
    "# Neural Network - 5 layers\n",
    "\n",
    "n_inputs = 28*28  # MNIST features = 28 pixcels n 28 pixcels for input\n",
    "n_hidden1_M4 = 300 # 300 hidden neurons in the 1st layer\n",
    "n_hidden2_M4 = 100 # 100 hidden neurons in the 2nd layer\n",
    "n_hidden3_M4 = 200 # 200 hidden neurons in the 3rd layer\n",
    "n_hidden4_M4 = 400 # 400 hidden neurons in the 4th layer\n",
    "n_hidden5_M4 = 500 # 500 hidden neurons in the 5th layer\n",
    "n_outputs_M4 = 20 # 20 outputs (0-19)"
   ]
  },
  {
   "cell_type": "code",
   "execution_count": 52,
   "metadata": {},
   "outputs": [],
   "source": [
    "reset_graph() #reset previous graph not to disturve the following process. \n",
    "\n",
    "X = tf.placeholder(tf.float32, shape=(None, n_inputs), name=\"X\")\n",
    "y = tf.placeholder(tf.int32, shape=(None), name=\"y\")\n"
   ]
  },
  {
   "cell_type": "code",
   "execution_count": 53,
   "metadata": {},
   "outputs": [],
   "source": [
    "# Create Neural Network　with tf.layers.dense()\n",
    "with tf.name_scope(\"dnn\"):\n",
    "    hidden1_m4 = tf.layers.dense(X, n_hidden1_M4, name=\"hidden1_m4\",\n",
    "                              activation=tf.nn.relu)\n",
    "    hidden2_m4 = tf.layers.dense(hidden1_m4, n_hidden2_M4, name=\"hidden2_m4\",\n",
    "                              activation=tf.nn.relu)\n",
    "    hidden3_m4 = tf.layers.dense(hidden2_m4, n_hidden3_M4, name=\"hidden3_m4\",\n",
    "                              activation=tf.nn.relu)\n",
    "    hidden4_m4 = tf.layers.dense(hidden3_m4, n_hidden4_M4, name=\"hidden4_m4\",\n",
    "                              activation=tf.nn.relu)\n",
    "    hidden5_m4 = tf.layers.dense(hidden4_m4, n_hidden5_M4, name=\"hidden5_m4\",\n",
    "                              activation=tf.nn.relu)\n",
    "    logits = tf.layers.dense(hidden5_m4, n_outputs_M4, name=\"outputs_m4\")"
   ]
  },
  {
   "cell_type": "code",
   "execution_count": 54,
   "metadata": {},
   "outputs": [],
   "source": [
    "# Cost function for training Neural Network\n",
    "with tf.name_scope(\"loss\"):\n",
    "    xentropy = tf.nn.sparse_softmax_cross_entropy_with_logits(labels=y,\n",
    "                                                              logits=logits)\n",
    "    loss = tf.reduce_mean(xentropy, name=\"loss\")"
   ]
  },
  {
   "cell_type": "code",
   "execution_count": 55,
   "metadata": {},
   "outputs": [],
   "source": [
    "# Gradient Descent Optimizer to minimize the cost function by learning_rate = 0.01 \n",
    "learning_rate = 0.01\n",
    "\n",
    "with tf.name_scope(\"train\"):\n",
    "    optimizer = tf.train.GradientDescentOptimizer(learning_rate)\n",
    "    training_op = optimizer.minimize(loss)"
   ]
  },
  {
   "cell_type": "code",
   "execution_count": 56,
   "metadata": {},
   "outputs": [],
   "source": [
    "# Measure classification performance by in_top_k().\n",
    "with tf.name_scope(\"eval\"):\n",
    "    correct = tf.nn.in_top_k(logits, y, 1)\n",
    "    accuracy = tf.reduce_mean(tf.cast(correct, tf.float32))"
   ]
  },
  {
   "cell_type": "code",
   "execution_count": 57,
   "metadata": {},
   "outputs": [],
   "source": [
    "# Node to initialize all the variables\n",
    "init = tf.global_variables_initializer()"
   ]
  },
  {
   "cell_type": "code",
   "execution_count": 58,
   "metadata": {},
   "outputs": [],
   "source": [
    "# Create saver to save trained parameters.\n",
    "saver = tf.train.Saver(save_relative_paths=True) "
   ]
  },
  {
   "cell_type": "code",
   "execution_count": 59,
   "metadata": {},
   "outputs": [],
   "source": [
    "# EXECUTION PHASE\n",
    "\n",
    "# Set number of epochs and batch size for training model.\n",
    "n_epochs = 20\n",
    "batch_size = 50"
   ]
  },
  {
   "cell_type": "code",
   "execution_count": 60,
   "metadata": {},
   "outputs": [],
   "source": [
    "# Record start time for neral network training\n",
    "start_time_M4 = time.process_time()\n",
    "#time.process_time()"
   ]
  },
  {
   "cell_type": "code",
   "execution_count": 61,
   "metadata": {},
   "outputs": [],
   "source": [
    "# Create function to shuffle training data\n",
    "def shuffle_batch(X, y, batch_size):\n",
    "    rnd_idx = np.random.permutation(len(X))\n",
    "    n_batches = len(X) // batch_size\n",
    "    for batch_idx in np.array_split(rnd_idx, n_batches):\n",
    "        X_batch, y_batch = X[batch_idx], y[batch_idx]\n",
    "        yield X_batch, y_batch"
   ]
  },
  {
   "cell_type": "code",
   "execution_count": 62,
   "metadata": {},
   "outputs": [
    {
     "name": "stdout",
     "output_type": "stream",
     "text": [
      "0 Batch accuracy: 0.88 Val accuracy: 0.8764\n",
      "1 Batch accuracy: 0.92 Val accuracy: 0.9296\n",
      "2 Batch accuracy: 0.96 Val accuracy: 0.9478\n",
      "3 Batch accuracy: 0.92 Val accuracy: 0.9548\n",
      "4 Batch accuracy: 0.98 Val accuracy: 0.9618\n",
      "5 Batch accuracy: 0.96 Val accuracy: 0.9574\n",
      "6 Batch accuracy: 1.0 Val accuracy: 0.9656\n",
      "7 Batch accuracy: 0.98 Val accuracy: 0.971\n",
      "8 Batch accuracy: 1.0 Val accuracy: 0.9692\n",
      "9 Batch accuracy: 0.96 Val accuracy: 0.9696\n",
      "10 Batch accuracy: 1.0 Val accuracy: 0.9746\n",
      "11 Batch accuracy: 0.98 Val accuracy: 0.9748\n",
      "12 Batch accuracy: 0.98 Val accuracy: 0.9686\n",
      "13 Batch accuracy: 1.0 Val accuracy: 0.9738\n",
      "14 Batch accuracy: 1.0 Val accuracy: 0.976\n",
      "15 Batch accuracy: 1.0 Val accuracy: 0.9758\n",
      "16 Batch accuracy: 1.0 Val accuracy: 0.976\n",
      "17 Batch accuracy: 1.0 Val accuracy: 0.9766\n",
      "18 Batch accuracy: 1.0 Val accuracy: 0.9776\n",
      "19 Batch accuracy: 1.0 Val accuracy: 0.9774\n"
     ]
    }
   ],
   "source": [
    "#Training model by using neural network\n",
    "with tf.Session() as sess:\n",
    "    init.run()\n",
    "    for epoch in range(n_epochs):\n",
    "        for X_batch, y_batch in shuffle_batch(X_train, y_train, batch_size):\n",
    "            sess.run(training_op, feed_dict={X: X_batch, y: y_batch})\n",
    "        acc_batch_M4 = accuracy.eval(feed_dict={X: X_batch, y: y_batch})\n",
    "        acc_val_M4 = accuracy.eval(feed_dict={X: X_valid, y: y_valid})\n",
    "        print(epoch, \"Batch accuracy:\", acc_batch_M4, \"Val accuracy:\", acc_val_M4)\n",
    "\n",
    "    save_path = saver.save(sess, \"./my_model4_final.ckpt\")"
   ]
  },
  {
   "cell_type": "code",
   "execution_count": 63,
   "metadata": {},
   "outputs": [
    {
     "name": "stdout",
     "output_type": "stream",
     "text": [
      "INFO:tensorflow:Restoring parameters from ./my_model4_final.ckpt\n"
     ]
    }
   ],
   "source": [
    "# Make prediction by using test data\n",
    "with tf.Session() as sess:\n",
    "    saver.restore(sess, \"./my_model4_final.ckpt\") # or better, use save_path\n",
    "    X_new_scaled = X_test[:20]\n",
    "    \n",
    "    Z = logits.eval(feed_dict={X: X_new_scaled})\n",
    "    y_pred_M4 = np.argmax(Z, axis=1)\n",
    "    \n",
    "    accuracy_M4 = accuracy.eval(feed_dict={X: X_test, \n",
    "                                        y: y_test})\n",
    "    accuracy_train_M4 = accuracy.eval(feed_dict={X: X_train, \n",
    "                                        y: y_train})"
   ]
  },
  {
   "cell_type": "code",
   "execution_count": 64,
   "metadata": {},
   "outputs": [],
   "source": [
    "# Load data for the prediction\n",
    "import pandas as pd\n",
    "data_to_predict = pd.read_csv(\"test.csv\") \n"
   ]
  },
  {
   "cell_type": "code",
   "execution_count": 68,
   "metadata": {},
   "outputs": [
    {
     "name": "stdout",
     "output_type": "stream",
     "text": [
      "INFO:tensorflow:Restoring parameters from ./my_model4_final.ckpt\n",
      "[7 2 1 0 4 1 4 9 5 9 0 6 9 0 1 5 9 7 3 4]\n"
     ]
    }
   ],
   "source": [
    "# Predict using Model 1 : 2 layers, 1st layers: 300 neurons, 2nd layers: 100 neurons\n",
    "with tf.Session() as sess:\n",
    "    saver.restore(sess, \"./my_model4_final.ckpt\") # or better, use save_path\n",
    "    # X_new_scaled = data_to_predict\n",
    "    X_new_scaled = X_test[:20]\n",
    "    Z = logits.eval(feed_dict={X: X_new_scaled})\n",
    "    y_pred_M4 = np.argmax(Z, axis=1)\n",
    "    print(y_pred_M4)\n",
    "    \n",
    "# prediction = pd.DataFrame(y_pred_M4, columns=['predictions']).to_csv('prediction_nn.csv')"
   ]
  },
  {
   "cell_type": "code",
   "execution_count": 70,
   "metadata": {},
   "outputs": [
    {
     "name": "stdout",
     "output_type": "stream",
     "text": [
      "-------- Model 4 --------\n",
      "300 neurons (1st layer), 100 neurons (2nd layer),200 neurons (3rd layer), 400 neurons(4th layer), 500 neurons (5th layer),20 outpus\n",
      "\n",
      "Predicted classes: [7 2 1 0 4 1 4 9 5 9 0 6 9 0 1 5 9 7 3 4]\n",
      "Actual classes: [7 2 1 0 4 1 4 9 5 9 0 6 9 0 1 5 9 7 3 4]\n",
      "Test Set Accracy: 0.9738\n",
      "Train Set Accracy: 0.9940364\n",
      "\n",
      "Start time: 1002.828125\n",
      "Stop time: 1570.75\n",
      "processing time: 567.921875\n"
     ]
    }
   ],
   "source": [
    "# Print prediction classess and actual classess.\n",
    "print(\"-------- Model 4 --------\")\n",
    "print(\"300 neurons (1st layer), 100 neurons (2nd layer),200 neurons (3rd layer), 400 neurons(4th layer), 500 neurons (5th layer),20 outpus\")\n",
    "print(\"\\nPredicted classes:\", y_pred_M4)\n",
    "print(\"Actual classes:\", y_test[:20])\n",
    "print(\"Test Set Accracy:\", accuracy_M4)\n",
    "print(\"Train Set Accracy:\", accuracy_train_M4)\n",
    "# Record end time for neral network training\n",
    "stop_time_M4 = time.process_time()\n",
    "\n",
    "#Total processing time\n",
    "runtime_M4 = stop_time_M4 - start_time_M4 \n",
    "\n",
    "print(\"\\nStart time:\", start_time_M4)\n",
    "print(\"Stop time:\", stop_time_M4)\n",
    "print(\"processing time:\", runtime_M4)"
   ]
  },
  {
   "cell_type": "markdown",
   "metadata": {},
   "source": [
    "##### Tensor Flow Neural Network Benchmark Experiment Results (Tabular Format )"
   ]
  },
  {
   "cell_type": "code",
   "execution_count": 71,
   "metadata": {},
   "outputs": [
    {
     "name": "stdout",
     "output_type": "stream",
     "text": [
      "-------- Table for Neural Network Benchmark Experiment Results: Activation Function = ReLU\n",
      "\n",
      "Model    Number of Layers    Nodes per Layer    Processing Time    Training Set Accuracy    Test Set Accuracy\n",
      "-------  ------------------  -----------------  -----------------  -----------------------  -------------------\n",
      "Model 1  2                   10                 228.234            0.9704                   0.977455\n",
      "Model 2  2                   20                 210.734            0.9711                   0.979509\n",
      "Model 3  5                   10                 553.922            0.9757                   0.994418\n",
      "Model 4  5                   20                 567.922            0.9738                   0.994036\n"
     ]
    }
   ],
   "source": [
    "## Create Table for Tensor Flow Neural Network Benchmark Experiment Results\n",
    "col_labels = ['Model', 'Number of Layers', 'Nodes per Layer', 'Processing Time','Training Set Accuracy', 'Test Set Accuracy']\n",
    "\n",
    "table_vals = [['Model 1','2','10','228.234375','0.9704','0.97745454'],\n",
    "              ['Model 2','2','20','210.734375','0.9711','0.9795091'],\n",
    "              ['Model 3','5','10','553.921875','0.9757','0.9944182'],\n",
    "              ['Model 4','5','20','567.921875','0.9738','0.9940364'],]\n",
    "\n",
    "table = tabulate(table_vals, headers=col_labels, tablefmt=\"simple\",numalign=\"left\")\n",
    "print('-------- Table for Neural Network Benchmark Experiment Results: Activation Function = ReLU\\n' )\n",
    "print(table) "
   ]
  },
  {
   "cell_type": "markdown",
   "metadata": {},
   "source": [
    "Management Question:\n",
    "Suppose you are a financial institution evaluating machine learning technologies for optical character recognition. Initial testing is on the MNIST digits. What can you conclude from your benchmark study? Which neural network typology and hyperparameter settings would you recommend as being the most trustworthy?\n",
    "\n",
    "#### REPORT/FINDINGS: \n",
    "(1) A summary and problem definition for management; \n",
    "\n",
    "(2) Discussion of the research design, measurement and statistical methods, traditional and machine learning methods employed \n",
    "\n",
    "(3) Overview of programming work; \n",
    "\n",
    "(4) Review of results with recommendations for management.\n",
    "\n"
   ]
  },
  {
   "cell_type": "markdown",
   "metadata": {},
   "source": [
    "In this experience, I have tried 4 different neural network models. The first two models have 2 layers but the first model has 10 Nodes per layer, and the second layers has 20 nodes per layer. From first two layers, we can see that the more number of nodes per layer, the higher training and test set accuracy, and the less roceesing time. The third and fourth models have 5 layers, and the third model has 10 nodes per layer, the fourth model has 20 nodes per layer. And compare with all four models, I think the more layers of the model, the more accuracy is, the more processing time will spend. and in each layer each model, the more neurons in each layer, the more processing time will spend and the more higher accuracy is. So for a financial instituion, I would change bigger number for each neurons in each layers, and add more layers in each model. It will give us a higher accuracy prediction model."
   ]
  }
 ],
 "metadata": {
  "kernelspec": {
   "display_name": "Python 3",
   "language": "python",
   "name": "python3"
  },
  "language_info": {
   "codemirror_mode": {
    "name": "ipython",
    "version": 3
   },
   "file_extension": ".py",
   "mimetype": "text/x-python",
   "name": "python",
   "nbconvert_exporter": "python",
   "pygments_lexer": "ipython3",
   "version": "3.8.5"
  }
 },
 "nbformat": 4,
 "nbformat_minor": 2
}
